{
  "cells": [
    {
      "cell_type": "markdown",
      "metadata": {
        "id": "Y1sn8A5qOykX"
      },
      "source": [
        "##Corpora"
      ]
    },
    {
      "cell_type": "code",
      "execution_count": 205,
      "metadata": {
        "id": "BYH8rEfiO2fM"
      },
      "outputs": [],
      "source": [
        "from sklearn.datasets import fetch_20newsgroups\n",
        "import numpy as np\n",
        "newsgroups_train = fetch_20newsgroups(subset='train')"
      ]
    },
    {
      "cell_type": "code",
      "execution_count": 206,
      "metadata": {
        "colab": {
          "base_uri": "https://localhost:8080/"
        },
        "id": "-oETvRfHO7IW",
        "outputId": "7485a78e-53f2-4977-c935-aa7e96b650e0"
      },
      "outputs": [
        {
          "name": "stdout",
          "output_type": "stream",
          "text": [
            "['alt.atheism',\n",
            " 'comp.graphics',\n",
            " 'comp.os.ms-windows.misc',\n",
            " 'comp.sys.ibm.pc.hardware',\n",
            " 'comp.sys.mac.hardware',\n",
            " 'comp.windows.x',\n",
            " 'misc.forsale',\n",
            " 'rec.autos',\n",
            " 'rec.motorcycles',\n",
            " 'rec.sport.baseball',\n",
            " 'rec.sport.hockey',\n",
            " 'sci.crypt',\n",
            " 'sci.electronics',\n",
            " 'sci.med',\n",
            " 'sci.space',\n",
            " 'soc.religion.christian',\n",
            " 'talk.politics.guns',\n",
            " 'talk.politics.mideast',\n",
            " 'talk.politics.misc',\n",
            " 'talk.religion.misc']\n"
          ]
        }
      ],
      "source": [
        "from pprint import pprint\n",
        "pprint(list(newsgroups_train.target_names))"
      ]
    },
    {
      "cell_type": "code",
      "execution_count": 207,
      "metadata": {
        "colab": {
          "base_uri": "https://localhost:8080/"
        },
        "id": "PXuWO0y5PSyc",
        "outputId": "428a5af4-28ee-49af-c19d-ca2e1aced4f9"
      },
      "outputs": [
        {
          "name": "stdout",
          "output_type": "stream",
          "text": [
            "(11314,)\n",
            "(11314,)\n",
            "[ 7  4  4  1 14 16 13  3  2  4]\n"
          ]
        }
      ],
      "source": [
        "print(newsgroups_train.filenames.shape);\n",
        "print(newsgroups_train.target.shape);\n",
        "print(newsgroups_train.target[:10]);"
      ]
    },
    {
      "cell_type": "code",
      "execution_count": 267,
      "metadata": {
        "colab": {
          "base_uri": "https://localhost:8080/"
        },
        "id": "Q62NLhw2PcmX",
        "outputId": "59e72975-8692-4e83-9e5b-09c334d1c6a6"
      },
      "outputs": [
        {
          "data": {
            "text/plain": [
              "['sci.crypt', 'sci.electronics', 'sci.med', 'sci.space']"
            ]
          },
          "execution_count": 267,
          "metadata": {},
          "output_type": "execute_result"
        }
      ],
      "source": [
        "cats = ['sci.crypt','sci.electronics','sci.med','sci.space',]\n",
        "#cats = ['sci.med','sci.space']\n",
        "\n",
        "newsgroups_train = fetch_20newsgroups(subset='train', categories=cats, random_state=0)\n",
        "newsgroups_test = fetch_20newsgroups(subset='test',categories=cats, shuffle=True, random_state=0)\n",
        "\n",
        "\n",
        "list(newsgroups_train.target_names)"
      ]
    },
    {
      "cell_type": "code",
      "execution_count": 209,
      "metadata": {
        "colab": {
          "base_uri": "https://localhost:8080/"
        },
        "id": "EaJiE93tPjIZ",
        "outputId": "c40a16dd-5d8e-4c7b-b3c2-2487fc39b684"
      },
      "outputs": [
        {
          "name": "stdout",
          "output_type": "stream",
          "text": [
            "(2373,)\n",
            "(2373,)\n",
            "[2 3 0 0 0 1 3 2 2 3]\n"
          ]
        }
      ],
      "source": [
        "print(newsgroups_train.filenames.shape);\n",
        "print(newsgroups_train.target.shape);\n",
        "print(newsgroups_train.target[:10]);"
      ]
    },
    {
      "cell_type": "code",
      "execution_count": 268,
      "metadata": {
        "colab": {
          "base_uri": "https://localhost:8080/"
        },
        "id": "4hD5yxRrnU3k",
        "outputId": "60e071d6-0c9b-4509-89a8-4e403733c354"
      },
      "outputs": [
        {
          "name": "stdout",
          "output_type": "stream",
          "text": [
            "(1579,)\n",
            "(1579,)\n",
            "[3 0 2 1 2 1 3 3 2 0]\n"
          ]
        }
      ],
      "source": [
        "print(newsgroups_test.filenames.shape);\n",
        "print(newsgroups_test.target.shape);\n",
        "print(newsgroups_test.target[:10]);"
      ]
    },
    {
      "cell_type": "markdown",
      "metadata": {
        "id": "52DsH4lsR0XG"
      },
      "source": [
        "## Vetorização"
      ]
    },
    {
      "cell_type": "code",
      "execution_count": 270,
      "metadata": {
        "colab": {
          "base_uri": "https://localhost:8080/"
        },
        "id": "VpRdUkVIR2hL",
        "outputId": "4dba5b3e-b97f-42a3-b14d-d86cd5c64bd5"
      },
      "outputs": [
        {
          "data": {
            "text/plain": [
              "(2373, 38683)"
            ]
          },
          "execution_count": 270,
          "metadata": {},
          "output_type": "execute_result"
        }
      ],
      "source": [
        "from sklearn.feature_extraction.text import TfidfVectorizer\n",
        "\n",
        "vectorizer = TfidfVectorizer()\n",
        "vectors = vectorizer.fit_transform(newsgroups_train.data)\n",
        "vectors.shape"
      ]
    },
    {
      "cell_type": "code",
      "execution_count": 211,
      "metadata": {
        "colab": {
          "base_uri": "https://localhost:8080/"
        },
        "id": "p3gJ-oDYSEoO",
        "outputId": "a8d79adf-4f44-4d75-9edd-3cf5732712e1"
      },
      "outputs": [
        {
          "data": {
            "text/plain": [
              "164.43826380109567"
            ]
          },
          "execution_count": 211,
          "metadata": {},
          "output_type": "execute_result"
        }
      ],
      "source": [
        "vectors.nnz / float(vectors.shape[0])"
      ]
    },
    {
      "cell_type": "markdown",
      "metadata": {
        "id": "KkeaXLrqHmBN"
      },
      "source": [
        "##Tokenização"
      ]
    },
    {
      "cell_type": "code",
      "execution_count": 212,
      "metadata": {
        "id": "J5Uqy1FnHou1"
      },
      "outputs": [],
      "source": [
        "from sklearn.feature_extraction.text import CountVectorizer\n",
        "count_vect = CountVectorizer()\n",
        "newsgroups_train_counts = count_vect.fit_transform(newsgroups_train.data)"
      ]
    },
    {
      "cell_type": "code",
      "execution_count": 213,
      "metadata": {
        "colab": {
          "base_uri": "https://localhost:8080/"
        },
        "id": "Xo1tFEZdRMpi",
        "outputId": "a1763d2f-3fae-4889-d6e2-ac93a3026277"
      },
      "outputs": [
        {
          "data": {
            "text/plain": [
              "(2373, 38683)"
            ]
          },
          "execution_count": 213,
          "metadata": {},
          "output_type": "execute_result"
        }
      ],
      "source": [
        "newsgroups_train_counts.shape"
      ]
    },
    {
      "cell_type": "code",
      "execution_count": 214,
      "metadata": {
        "colab": {
          "base_uri": "https://localhost:8080/"
        },
        "id": "6jUq6ByvDN7W",
        "outputId": "2572d393-1c91-4364-8400-e07d75c263c8"
      },
      "outputs": [
        {
          "data": {
            "text/plain": [
              "11807"
            ]
          },
          "execution_count": 214,
          "metadata": {},
          "output_type": "execute_result"
        }
      ],
      "source": [
        "count_vect.vocabulary_.get(u'country')\n"
      ]
    },
    {
      "cell_type": "markdown",
      "metadata": {
        "id": "FGfALmBRDVDi"
      },
      "source": [
        "##Frequência"
      ]
    },
    {
      "cell_type": "code",
      "execution_count": 215,
      "metadata": {
        "id": "FV1l9wCwDjrh"
      },
      "outputs": [],
      "source": [
        "from sklearn.feature_extraction.text import TfidfTransformer\n",
        "#tf_transformer = TfidfTransformer(use_idf=False).fit(newsgroups_train_counts)\n",
        "#newsgroups_train_tf = tf_transformer.transform(newsgroups_train_counts)\n",
        "#newsgroups_train_tf.shape"
      ]
    },
    {
      "cell_type": "code",
      "execution_count": 216,
      "metadata": {
        "colab": {
          "base_uri": "https://localhost:8080/"
        },
        "id": "Ky2GH5H6FWF6",
        "outputId": "fd219194-68c6-4020-d062-9fad0b1b4eda"
      },
      "outputs": [
        {
          "data": {
            "text/plain": [
              "(2373, 38683)"
            ]
          },
          "execution_count": 216,
          "metadata": {},
          "output_type": "execute_result"
        }
      ],
      "source": [
        "tfidf_transformer = TfidfTransformer()\n",
        "newsgroups_train_tfidf = tfidf_transformer.fit_transform(newsgroups_train_counts)\n",
        "newsgroups_train_tfidf.shape"
      ]
    },
    {
      "cell_type": "markdown",
      "metadata": {
        "id": "mfHUT48aE7Q3"
      },
      "source": [
        "##Classificador "
      ]
    },
    {
      "cell_type": "code",
      "execution_count": 217,
      "metadata": {
        "id": "u-Q0bq4AEwD7"
      },
      "outputs": [],
      "source": [
        "from sklearn.naive_bayes import MultinomialNB\n",
        "classification_nb = MultinomialNB()\n",
        "classification = classification_nb.fit(newsgroups_train_tfidf, newsgroups_train.target)"
      ]
    },
    {
      "cell_type": "code",
      "execution_count": 218,
      "metadata": {
        "colab": {
          "base_uri": "https://localhost:8080/"
        },
        "id": "CprBvUBlITeo",
        "outputId": "c57cc671-7338-41f5-f680-719970bab386"
      },
      "outputs": [
        {
          "data": {
            "text/plain": [
              "['sci.crypt', 'sci.electronics', 'sci.med', 'sci.space']"
            ]
          },
          "execution_count": 218,
          "metadata": {},
          "output_type": "execute_result"
        }
      ],
      "source": [
        "newsgroups_train.target_names"
      ]
    },
    {
      "cell_type": "code",
      "execution_count": 219,
      "metadata": {
        "colab": {
          "base_uri": "https://localhost:8080/"
        },
        "id": "LJ4kgMb5G22p",
        "outputId": "45258083-cf88-4a33-84a9-d924ae893a6b"
      },
      "outputs": [
        {
          "name": "stdout",
          "output_type": "stream",
          "text": [
            "'The doctor is good' => sci.med\n",
            "'The biggest planet' => sci.space\n"
          ]
        }
      ],
      "source": [
        "docs_new = ['The doctor is good', 'The biggest planet']\n",
        "newsgroups_new_counts = count_vect.transform(docs_new)\n",
        "newsgroups_new_tfidf = tfidf_transformer.transform(newsgroups_new_counts)\n",
        "\n",
        "predicted = classification.predict(newsgroups_new_tfidf)\n",
        "\n",
        "for doc, category in zip(docs_new, predicted):\n",
        "    print('%r => %s' % (doc, newsgroups_train.target_names[category]))"
      ]
    },
    {
      "cell_type": "markdown",
      "metadata": {
        "id": "2IWhyLSKjZQY"
      },
      "source": [
        "##Condutor"
      ]
    },
    {
      "cell_type": "code",
      "execution_count": 220,
      "metadata": {
        "id": "kzegyvFFHt_C"
      },
      "outputs": [],
      "source": [
        "from sklearn.pipeline import Pipeline\n",
        "text_clf = Pipeline([('vect', CountVectorizer()),('tfidf', TfidfTransformer()),('clf', MultinomialNB()),])"
      ]
    },
    {
      "cell_type": "code",
      "execution_count": 221,
      "metadata": {
        "colab": {
          "base_uri": "https://localhost:8080/"
        },
        "id": "wgmDb_2zj52f",
        "outputId": "bca92127-0e5d-428a-c686-b503e05c032c"
      },
      "outputs": [
        {
          "data": {
            "text/plain": [
              "Pipeline(steps=[('vect', CountVectorizer()), ('tfidf', TfidfTransformer()),\n",
              "                ('clf', MultinomialNB())])"
            ]
          },
          "execution_count": 221,
          "metadata": {},
          "output_type": "execute_result"
        }
      ],
      "source": [
        "text_clf.fit(newsgroups_train.data, newsgroups_train.target)"
      ]
    },
    {
      "cell_type": "markdown",
      "metadata": {
        "id": "TJAMscvxkHsh"
      },
      "source": [
        "##Desempenho do classificador "
      ]
    },
    {
      "cell_type": "code",
      "execution_count": 264,
      "metadata": {
        "colab": {
          "base_uri": "https://localhost:8080/"
        },
        "id": "d76RgfSqkNe7",
        "outputId": "0ffbed7f-f528-46d4-b773-aa994089e6d2"
      },
      "outputs": [
        {
          "data": {
            "text/plain": [
              "0.9373020899303357"
            ]
          },
          "execution_count": 264,
          "metadata": {},
          "output_type": "execute_result"
        }
      ],
      "source": [
        "import numpy as np\n",
        "docs_test = newsgroups_test.data\n",
        "predicted = text_clf.predict(docs_test)\n",
        "np.mean(predicted == newsgroups_test.target)"
      ]
    },
    {
      "cell_type": "code",
      "execution_count": 265,
      "metadata": {
        "colab": {
          "base_uri": "https://localhost:8080/"
        },
        "id": "glCQwCZ2ijrp",
        "outputId": "3b26e090-2bc4-4297-ee25-9c464a4839f6"
      },
      "outputs": [
        {
          "name": "stdout",
          "output_type": "stream",
          "text": [
            "1579\n",
            "2373\n"
          ]
        }
      ],
      "source": [
        "print(len(newsgroups_test.target))\n",
        "print(len(newsgroups_train.target))\n"
      ]
    },
    {
      "cell_type": "code",
      "execution_count": 224,
      "metadata": {
        "id": "oUbTIgmbkxLI"
      },
      "outputs": [],
      "source": [
        "from sklearn.linear_model import SGDClassifier\n",
        "text_clf = Pipeline([('vect', CountVectorizer()),('tfidf', TfidfTransformer()),('clf', SGDClassifier(loss='hinge', penalty='l2',alpha=1e-3, random_state=42,max_iter=5, tol=None)),])"
      ]
    },
    {
      "cell_type": "code",
      "execution_count": 225,
      "metadata": {
        "colab": {
          "base_uri": "https://localhost:8080/"
        },
        "id": "sgPljR0lmVAK",
        "outputId": "c3f0e3d9-3abc-402f-8b6b-8433f21873b4"
      },
      "outputs": [
        {
          "data": {
            "text/plain": [
              "Pipeline(steps=[('vect', CountVectorizer()), ('tfidf', TfidfTransformer()),\n",
              "                ('clf',\n",
              "                 SGDClassifier(alpha=0.001, max_iter=5, random_state=42,\n",
              "                               tol=None))])"
            ]
          },
          "execution_count": 225,
          "metadata": {},
          "output_type": "execute_result"
        }
      ],
      "source": [
        "text_clf.fit(newsgroups_train.data, newsgroups_train.target)"
      ]
    },
    {
      "cell_type": "code",
      "execution_count": 226,
      "metadata": {
        "id": "DclNdbeYmsq-"
      },
      "outputs": [],
      "source": [
        "predicted = text_clf.predict(docs_test)"
      ]
    },
    {
      "cell_type": "code",
      "execution_count": 227,
      "metadata": {
        "colab": {
          "base_uri": "https://localhost:8080/"
        },
        "id": "I4oqbwQ0nkF8",
        "outputId": "3baa4aad-a794-458d-a283-47bb3a3fc8ba"
      },
      "outputs": [
        {
          "data": {
            "text/plain": [
              "0.9373020899303357"
            ]
          },
          "execution_count": 227,
          "metadata": {},
          "output_type": "execute_result"
        }
      ],
      "source": [
        "np.mean(predicted == newsgroups_test.target)\n"
      ]
    },
    {
      "cell_type": "markdown",
      "metadata": {
        "id": "8Db1P-ZWuRan"
      },
      "source": [
        "#Avaliação do Classificador "
      ]
    },
    {
      "cell_type": "code",
      "execution_count": 228,
      "metadata": {
        "id": "yQbnkBohuWJ7"
      },
      "outputs": [],
      "source": [
        "from sklearn import metrics "
      ]
    },
    {
      "cell_type": "markdown",
      "metadata": {
        "id": "qBLCFUTin8oe"
      },
      "source": [
        "##Classification report"
      ]
    },
    {
      "cell_type": "code",
      "execution_count": 229,
      "metadata": {
        "colab": {
          "base_uri": "https://localhost:8080/"
        },
        "id": "KDuQArMAn-uk",
        "outputId": "9230eade-4c97-492f-be79-0c11922586d9"
      },
      "outputs": [
        {
          "name": "stdout",
          "output_type": "stream",
          "text": [
            "                 precision    recall  f1-score   support\n",
            "\n",
            "      sci.crypt       0.98      0.94      0.96       396\n",
            "sci.electronics       0.85      0.95      0.90       393\n",
            "        sci.med       0.96      0.90      0.93       396\n",
            "      sci.space       0.97      0.96      0.96       394\n",
            "\n",
            "       accuracy                           0.94      1579\n",
            "      macro avg       0.94      0.94      0.94      1579\n",
            "   weighted avg       0.94      0.94      0.94      1579\n",
            "\n"
          ]
        }
      ],
      "source": [
        "print(metrics.classification_report(newsgroups_test.target, predicted,target_names=newsgroups_test.target_names))"
      ]
    },
    {
      "cell_type": "markdown",
      "metadata": {
        "id": "7x6OsmTrW6F-"
      },
      "source": [
        "##Roc curve"
      ]
    },
    {
      "cell_type": "code",
      "execution_count": 230,
      "metadata": {
        "id": "TYXZyTOYW8ep"
      },
      "outputs": [],
      "source": [
        "from sklearn import metrics\n",
        "from sklearn.svm import LinearSVC\n",
        "from sklearn.metrics import roc_curve, auc\n",
        "from sklearn.model_selection import train_test_split\n",
        "from sklearn.preprocessing import label_binarize\n",
        "from sklearn.multiclass import OneVsRestClassifier\n",
        "from matplotlib import pyplot as plt\n",
        "from sklearn.neighbors import KNeighborsClassifier"
      ]
    },
    {
      "cell_type": "code",
      "execution_count": 231,
      "metadata": {
        "id": "5ll141hyXZlZ"
      },
      "outputs": [],
      "source": [
        "clf_svc =  LinearSVC(C=1, tol=0.01)\n"
      ]
    },
    {
      "cell_type": "code",
      "execution_count": 232,
      "metadata": {
        "id": "bW7JQmb3cfqO"
      },
      "outputs": [],
      "source": [
        "clf_kn =  KNeighborsClassifier()"
      ]
    },
    {
      "cell_type": "code",
      "execution_count": 271,
      "metadata": {
        "id": "4nHeAPByZpiw"
      },
      "outputs": [],
      "source": [
        "vectors_test = vectorizer.transform(newsgroups_test.data)"
      ]
    },
    {
      "cell_type": "code",
      "execution_count": 272,
      "metadata": {
        "colab": {
          "base_uri": "https://localhost:8080/"
        },
        "id": "AsPGAZkLbufu",
        "outputId": "83548231-32dc-447b-99fe-e5d3d69dc768"
      },
      "outputs": [
        {
          "data": {
            "text/plain": [
              "(1579, 38683)"
            ]
          },
          "execution_count": 272,
          "metadata": {},
          "output_type": "execute_result"
        }
      ],
      "source": [
        "vectors_test.shape"
      ]
    },
    {
      "cell_type": "code",
      "execution_count": 235,
      "metadata": {
        "colab": {
          "base_uri": "https://localhost:8080/"
        },
        "id": "WKXLlkybbyoT",
        "outputId": "e5331e48-375a-416e-8e88-6511c2b4a744"
      },
      "outputs": [
        {
          "data": {
            "text/plain": [
              "(2373, 38683)"
            ]
          },
          "execution_count": 235,
          "metadata": {},
          "output_type": "execute_result"
        }
      ],
      "source": [
        "vectors.shape"
      ]
    },
    {
      "cell_type": "code",
      "execution_count": 236,
      "metadata": {
        "colab": {
          "base_uri": "https://localhost:8080/"
        },
        "id": "nSavfOLxb0uM",
        "outputId": "51703c38-f0a5-43d6-890c-66cf6649d017"
      },
      "outputs": [
        {
          "data": {
            "text/plain": [
              "2373"
            ]
          },
          "execution_count": 236,
          "metadata": {},
          "output_type": "execute_result"
        }
      ],
      "source": [
        "len(newsgroups_train.target)"
      ]
    },
    {
      "cell_type": "code",
      "execution_count": 237,
      "metadata": {
        "colab": {
          "base_uri": "https://localhost:8080/"
        },
        "id": "fLkc9ARub5-b",
        "outputId": "7ab8462d-e738-461b-86da-7979cee8fd57"
      },
      "outputs": [
        {
          "data": {
            "text/plain": [
              "1579"
            ]
          },
          "execution_count": 237,
          "metadata": {},
          "output_type": "execute_result"
        }
      ],
      "source": [
        "len(newsgroups_test.target)"
      ]
    },
    {
      "cell_type": "code",
      "execution_count": 238,
      "metadata": {
        "colab": {
          "base_uri": "https://localhost:8080/"
        },
        "id": "M9h37yDegs0S",
        "outputId": "aa841e30-5e78-4c18-de18-f40ba0dbc0f5"
      },
      "outputs": [
        {
          "data": {
            "text/plain": [
              "(1579,)"
            ]
          },
          "execution_count": 238,
          "metadata": {},
          "output_type": "execute_result"
        }
      ],
      "source": [
        "predicted.shape"
      ]
    },
    {
      "cell_type": "code",
      "execution_count": 239,
      "metadata": {
        "id": "g4y3s79EXCcv"
      },
      "outputs": [],
      "source": [
        "def ROC_multi_class(Xtr, ytr, Xtt, ytt, clf):\n",
        "    \n",
        "    classes = [0,1, 2, 3]\n",
        "    ytr = label_binarize(ytr, classes=classes)\n",
        "    n_classes = ytr.shape[1]\n",
        "    \n",
        "    classifier = OneVsRestClassifier(clf)\n",
        "    classifier.fit(Xtr, ytr)\n",
        "    if (clf == clf_svc):\n",
        "        y_pred_score = classifier.decision_function(Xtt)\n",
        "    else:\n",
        "        y_pred_score = classifier.predict_proba(Xtt)\n",
        "    \n",
        "    ytt = label_binarize(ytt, classes=classes)\n",
        "    \n",
        " \n",
        "    fpr = dict()\n",
        "    tpr = dict()\n",
        "    roc_auc = dict()\n",
        "    for i in range(n_classes):\n",
        "        fpr[i], tpr[i], _ = roc_curve(ytt[:, i], y_pred_score[:, i])\n",
        "        roc_auc[i] = auc(fpr[i], tpr[i])\n",
        "\n",
        "  \n",
        "    for i in range(n_classes):\n",
        "        plt.plot(fpr[i], tpr[i], label='ROC curve of class {0} (area = {1:0.2f})'\n",
        "                                       ''.format(i+1, roc_auc[i]))\n",
        "    \n",
        "    plt.plot([0, 1], [0, 1], 'k--')\n",
        "    plt.xlim([0.0, 1.0])\n",
        "    plt.ylim([0.0, 1.05])\n",
        "    plt.xlabel('False Positive Rate')\n",
        "    plt.ylabel('True Positive Rate')\n",
        "    plt.title('ROC of multi-class')\n",
        "    plt.legend(loc=\"lower right\")\n",
        "    plt.show()"
      ]
    },
    {
      "cell_type": "code",
      "execution_count": 273,
      "metadata": {
        "colab": {
          "base_uri": "https://localhost:8080/",
          "height": 384
        },
        "id": "eOlaXZPLZHB-",
        "outputId": "2145920e-129e-4f34-e1d0-f95c3e29f85d"
      },
      "outputs": [
        {
          "name": "stderr",
          "output_type": "stream",
          "text": [
            "/usr/local/lib/python3.8/dist-packages/sklearn/multiclass.py:79: UserWarning: Label not 4 is present in all training examples.\n",
            "  warnings.warn(\n",
            "/usr/local/lib/python3.8/dist-packages/sklearn/metrics/_ranking.py:999: UndefinedMetricWarning: No positive samples in y_true, true positive value should be meaningless\n",
            "  warnings.warn(\n"
          ]
        },
        {
          "data": {
            "image/png": "[encoded data removed]",
            "text/plain": [
              "<Figure size 432x288 with 1 Axes>"
            ]
          },
          "metadata": {
            "needs_background": "light"
          },
          "output_type": "display_data"
        }
      ],
      "source": [
        "ROC_multi_class(vectors, newsgroups_train.target, vectors_test, newsgroups_test.target, classification_nb)"
      ]
    },
    {
      "cell_type": "code",
      "execution_count": 274,
      "metadata": {
        "colab": {
          "base_uri": "https://localhost:8080/",
          "height": 384
        },
        "id": "ydA2xDWzcS-A",
        "outputId": "df861766-69fd-4738-f44f-261bd3a3cf19"
      },
      "outputs": [
        {
          "name": "stderr",
          "output_type": "stream",
          "text": [
            "/usr/local/lib/python3.8/dist-packages/sklearn/multiclass.py:79: UserWarning: Label not 4 is present in all training examples.\n",
            "  warnings.warn(\n",
            "/usr/local/lib/python3.8/dist-packages/sklearn/metrics/_ranking.py:999: UndefinedMetricWarning: No positive samples in y_true, true positive value should be meaningless\n",
            "  warnings.warn(\n"
          ]
        },
        {
          "data": {
            "image/png": "[encoded data removed]",
            "text/plain": [
              "<Figure size 432x288 with 1 Axes>"
            ]
          },
          "metadata": {
            "needs_background": "light"
          },
          "output_type": "display_data"
        }
      ],
      "source": [
        "ROC_multi_class(vectors, newsgroups_train.target, vectors_test, newsgroups_test.target, clf_svc)"
      ]
    },
    {
      "cell_type": "code",
      "execution_count": 275,
      "metadata": {
        "colab": {
          "base_uri": "https://localhost:8080/",
          "height": 384
        },
        "id": "U_ZzTatKc1Vx",
        "outputId": "16d9387c-8cc7-4ee3-c654-997d39757b4f"
      },
      "outputs": [
        {
          "name": "stderr",
          "output_type": "stream",
          "text": [
            "/usr/local/lib/python3.8/dist-packages/sklearn/multiclass.py:79: UserWarning: Label not 4 is present in all training examples.\n",
            "  warnings.warn(\n",
            "/usr/local/lib/python3.8/dist-packages/sklearn/metrics/_ranking.py:999: UndefinedMetricWarning: No positive samples in y_true, true positive value should be meaningless\n",
            "  warnings.warn(\n"
          ]
        },
        {
          "data": {
            "image/png": "[encoded data removed]",
            "text/plain": [
              "<Figure size 432x288 with 1 Axes>"
            ]
          },
          "metadata": {
            "needs_background": "light"
          },
          "output_type": "display_data"
        }
      ],
      "source": [
        "ROC_multi_class(vectors, newsgroups_train.target, vectors_test, newsgroups_test.target,clf_kn)"
      ]
    }
  ],
  "metadata": {
    "colab": {
      "collapsed_sections": [
        "sGWWK7t0wecw"
      ],
      "provenance": []
    },
    "kernelspec": {
      "display_name": "Python 3",
      "name": "python3"
    },
    "language_info": {
      "name": "python"
    }
  },
  "nbformat": 4,
  "nbformat_minor": 0
}
